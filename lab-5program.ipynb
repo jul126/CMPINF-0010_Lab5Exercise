{
 "cells": [
  {
   "cell_type": "code",
   "execution_count": 11,
   "metadata": {},
   "outputs": [
    {
     "name": "stdin",
     "output_type": "stream",
     "text": [
      "Type in a name as input:  qwerty\n",
      "Type in an integer:  1\n"
     ]
    },
    {
     "name": "stdout",
     "output_type": "stream",
     "text": [
      "113\n",
      "119\n",
      "101\n",
      "114\n",
      "116\n",
      "121\n",
      "Your name is qwerty.\n",
      "Encoded with a Caesar shift of 1 it now becomes rxfsuz (automatically adjusted to lowercase).\n"
     ]
    }
   ],
   "source": [
    "while True:\n",
    "    try:\n",
    "        name = input('Type in a name as input: ')\n",
    "        shift = int(input('Type in an integer: '))\n",
    "        break;\n",
    "    except ValueError:\n",
    "        print('That was not an integer. Try again.')\n",
    "        \n",
    "def do_something(name, shift):\n",
    "    s = [c for c in name]\n",
    "    encoded = ''\n",
    "    for c in s:\n",
    "        #print(ord(c))\n",
    "        c = chr( (ord(c) - 97 + shift) % 25 + 97 )\n",
    "        encoded+=c\n",
    "    return encoded\n",
    "\n",
    "new_name = do_something(name.lower(), shift)\n",
    "print('Your name is ' + name + '.')\n",
    "print('Encoded with a Caesar shift of ' + str(shift) + ' it now becomes ' + new_name + ' (automatically adjusted to lowercase).')\n"
   ]
  },
  {
   "cell_type": "code",
   "execution_count": null,
   "metadata": {},
   "outputs": [],
   "source": []
  }
 ],
 "metadata": {
  "kernelspec": {
   "display_name": "Python 3",
   "language": "python",
   "name": "python3"
  },
  "language_info": {
   "codemirror_mode": {
    "name": "ipython",
    "version": 3
   },
   "file_extension": ".py",
   "mimetype": "text/x-python",
   "name": "python",
   "nbconvert_exporter": "python",
   "pygments_lexer": "ipython3",
   "version": "3.8.5"
  }
 },
 "nbformat": 4,
 "nbformat_minor": 4
}
